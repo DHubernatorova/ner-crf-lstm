{
 "cells": [
  {
   "cell_type": "code",
   "execution_count": 1,
   "metadata": {},
   "outputs": [],
   "source": [
    "%matplotlib inline\n",
    "import matplotlib.pyplot as plt\n",
    "plt.style.use('ggplot')"
   ]
  },
  {
   "cell_type": "code",
   "execution_count": 2,
   "metadata": {},
   "outputs": [
    {
     "name": "stderr",
     "output_type": "stream",
     "text": [
      "/Library/Frameworks/Python.framework/Versions/3.6/lib/python3.6/site-packages/sklearn/cross_validation.py:41: DeprecationWarning: This module was deprecated in version 0.18 in favor of the model_selection module into which all the refactored classes and functions are moved. Also note that the interface of the new CV iterators are different from that of this module. This module will be removed in 0.20.\n",
      "  \"This module will be removed in 0.20.\", DeprecationWarning)\n",
      "/Library/Frameworks/Python.framework/Versions/3.6/lib/python3.6/site-packages/sklearn/grid_search.py:42: DeprecationWarning: This module was deprecated in version 0.18 in favor of the model_selection module into which all the refactored classes and functions are moved. This module will be removed in 0.20.\n",
      "  DeprecationWarning)\n"
     ]
    }
   ],
   "source": [
    "from itertools import chain\n",
    "\n",
    "import nltk\n",
    "import sklearn\n",
    "import scipy.stats\n",
    "from sklearn.metrics import make_scorer\n",
    "from sklearn.cross_validation import cross_val_score\n",
    "from sklearn.grid_search import RandomizedSearchCV\n",
    "\n",
    "import sklearn_crfsuite\n",
    "from sklearn_crfsuite import scorers\n",
    "from sklearn_crfsuite import metrics\n",
    "import pickle\n",
    "from sklearn.model_selection import train_test_split"
   ]
  },
  {
   "cell_type": "markdown",
   "metadata": {},
   "source": [
    "## Let's use NKJP data to NER system\n",
    "\n",
    "To download NKJP go here\n",
    "http://clip.ipipan.waw.pl/NationalCorpusOfPolish\n",
    "and get manually annotated subcorpus archive\n",
    "Script nkjp_download.py helps to transform all XML data to Python list of lists with documents, where word has its POS tag and Named entity as target variable"
   ]
  },
  {
   "cell_type": "markdown",
   "metadata": {},
   "source": [
    "## Features\n",
    "\n",
    "Next, define some features. In this example we use word identity, word suffix, word shape and word POS tag; also, some information from nearby words is used. \n",
    "\n",
    "sklearn-crfsuite (and python-crfsuite) supports several feature formats; here we use feature dicts."
   ]
  },
  {
   "cell_type": "markdown",
   "metadata": {},
   "source": [
    "This is what word2features extracts:"
   ]
  },
  {
   "cell_type": "markdown",
   "metadata": {},
   "source": [
    "Extract features from the data:"
   ]
  },
  {
   "cell_type": "code",
   "execution_count": 3,
   "metadata": {},
   "outputs": [],
   "source": [
    "with open(\"word_data_file.obj\", \"rb\") as infile:\n",
    "    data = pickle.load(infile)\n",
    "\n",
    "def word2features(doc, i):\n",
    "    word = doc[i][0]\n",
    "    postag = doc[i][1]\n",
    "    \n",
    "    features = {\n",
    "        'bias': 1.0,\n",
    "        'word.lower()': word.lower(),\n",
    "        'word[-3:]': word[-3:],\n",
    "        'word[-2:]': word[-2:],\n",
    "        'word.isupper()': word.isupper(),\n",
    "        'word.istitle()': word.istitle(),\n",
    "        'word.isdigit()': word.isdigit(),\n",
    "        'postag': postag \n",
    "    }\n",
    "    if i > 0:\n",
    "        word1 = doc[i-1][0]\n",
    "        postag1 = doc[i-1][1]\n",
    "        features.update({\n",
    "            '-1:word.lower()': word1.lower(),\n",
    "            '-1:word.istitle()': word1.istitle(),\n",
    "            '-1:word.isupper()': word1.isupper(),\n",
    "            '-1:postag': postag1\n",
    "        })\n",
    "    else:\n",
    "        features['BOS'] = True\n",
    "        \n",
    "    if i < len(doc)-1:\n",
    "        word1 = doc[i+1][0]\n",
    "        postag1 = doc[i+1][1]\n",
    "        features.update({\n",
    "            '+1:word.lower()': word1.lower(),\n",
    "            '+1:word.istitle()': word1.istitle(),\n",
    "            '+1:word.isupper()': word1.isupper(),\n",
    "            '+1:postag': postag1\n",
    "        })\n",
    "    else:\n",
    "        features['EOS'] = True\n",
    "                \n",
    "    return features\n",
    "\n",
    "# A function for extracting features in documents\n",
    "def extract_features(doc):\n",
    "    return [word2features(doc, i) for i in range(len(doc))]\n",
    "\n",
    "# A function fo generating the list of labels for each document\n",
    "def get_labels(doc):\n",
    "    return [label for (token, postag, label) in doc]"
   ]
  },
  {
   "cell_type": "code",
   "execution_count": 4,
   "metadata": {},
   "outputs": [
    {
     "name": "stdout",
     "output_type": "stream",
     "text": [
      "CPU times: user 3.59 s, sys: 308 ms, total: 3.9 s\n",
      "Wall time: 3.95 s\n"
     ]
    }
   ],
   "source": [
    "%%time\n",
    "X = [extract_features(doc) for doc in data]\n",
    "y = [get_labels(doc) for doc in data]\n",
    "X_train, X_test, y_train, y_test = train_test_split(X, y, test_size=0.3)"
   ]
  },
  {
   "cell_type": "markdown",
   "metadata": {},
   "source": [
    "## Training\n",
    "\n",
    "To see all possible CRF parameters check its docstring. Here we are useing L-BFGS training algorithm (it is default) with Elastic Net (L1 + L2) regularization."
   ]
  },
  {
   "cell_type": "code",
   "execution_count": 6,
   "metadata": {},
   "outputs": [
    {
     "name": "stdout",
     "output_type": "stream",
     "text": [
      "CPU times: user 2min 56s, sys: 1.95 s, total: 2min 58s\n",
      "Wall time: 3min 3s\n"
     ]
    }
   ],
   "source": [
    "%%time\n",
    "crf = sklearn_crfsuite.CRF(\n",
    "    algorithm='lbfgs', \n",
    "    c1=0.1, \n",
    "    c2=0.01, \n",
    "    max_iterations=200, \n",
    "    all_possible_transitions=True\n",
    ")\n",
    "crf.fit(X_train, y_train)"
   ]
  },
  {
   "cell_type": "markdown",
   "metadata": {},
   "source": [
    "## Evaluation\n",
    "\n",
    "There is much more O entities in data set, but we're more interested in other entities. To account for this we'll use averaged F1 score computed for all labels except for O. ``sklearn-crfsuite.metrics`` package provides some useful metrics for sequence classification task, including this one."
   ]
  },
  {
   "cell_type": "code",
   "execution_count": 7,
   "metadata": {},
   "outputs": [
    {
     "data": {
      "text/plain": [
       "['orgName', 'persName', 'date', 'geogName', 'placeName', 'time']"
      ]
     },
     "execution_count": 7,
     "metadata": {},
     "output_type": "execute_result"
    }
   ],
   "source": [
    "labels = list(crf.classes_)\n",
    "labels.remove('I')\n",
    "labels"
   ]
  },
  {
   "cell_type": "code",
   "execution_count": 29,
   "metadata": {},
   "outputs": [
    {
     "name": "stdout",
     "output_type": "stream",
     "text": [
      "0.690213215724\n",
      "CPU times: user 3.13 s, sys: 59 ms, total: 3.19 s\n",
      "Wall time: 3.2 s\n"
     ]
    }
   ],
   "source": [
    "%%time\n",
    "y_pred = crf.predict(X_test)\n",
    "print(metrics.flat_f1_score(y_test, y_pred, \n",
    "                      average='weighted', labels=labels))"
   ]
  },
  {
   "cell_type": "markdown",
   "metadata": {},
   "source": [
    "Inspect per-class results in more detail:"
   ]
  },
  {
   "cell_type": "code",
   "execution_count": 30,
   "metadata": {},
   "outputs": [
    {
     "name": "stdout",
     "output_type": "stream",
     "text": [
      "             precision    recall  f1-score   support\n",
      "\n",
      "    orgName      0.655     0.530     0.586      9173\n",
      "  placeName      0.782     0.697     0.737      4278\n",
      "   persName      0.843     0.832     0.838      7594\n",
      "   geogName      0.625     0.304     0.409      2508\n",
      "       date      0.894     0.822     0.856      2171\n",
      "       time      0.661     0.519     0.581       214\n",
      "\n",
      "avg / total      0.748     0.649     0.690     25938\n",
      "\n"
     ]
    }
   ],
   "source": [
    "print(metrics.flat_classification_report(\n",
    "    y_test, y_pred, labels=labels, digits=3\n",
    "))"
   ]
  },
  {
   "cell_type": "markdown",
   "metadata": {},
   "source": [
    "## Hyperparameter Optimization\n",
    "\n",
    "To improve quality try to select regularization parameters using randomized search and 3-fold cross-validation.\n",
    "\n",
    "I takes quite a lot of CPU time and RAM (we're fitting a model ``50 * 3 = 150`` times), so grab a tea and be patient, or reduce n_iter in RandomizedSearchCV, or fit model only on a subset of training data."
   ]
  },
  {
   "cell_type": "code",
   "execution_count": 8,
   "metadata": {},
   "outputs": [
    {
     "name": "stdout",
     "output_type": "stream",
     "text": [
      "Fitting 3 folds for each of 20 candidates, totalling 60 fits\n"
     ]
    },
    {
     "name": "stderr",
     "output_type": "stream",
     "text": [
      "[Parallel(n_jobs=-1)]: Done  42 tasks      | elapsed: 32.7min\n",
      "[Parallel(n_jobs=-1)]: Done  60 out of  60 | elapsed: 45.2min finished\n"
     ]
    },
    {
     "name": "stdout",
     "output_type": "stream",
     "text": [
      "CPU times: user 5min 6s, sys: 1min 49s, total: 6min 56s\n",
      "Wall time: 47min 16s\n"
     ]
    }
   ],
   "source": [
    "%%time\n",
    "# define fixed parameters and parameters to search\n",
    "crf = sklearn_crfsuite.CRF(\n",
    "    algorithm='lbfgs', \n",
    "    max_iterations=100, \n",
    "    all_possible_transitions=True\n",
    ")\n",
    "params_space = {\n",
    "    'c1': scipy.stats.expon(scale=0.5),\n",
    "    'c2': scipy.stats.expon(scale=0.05),\n",
    "}\n",
    "\n",
    "# use the same metric for evaluation\n",
    "f1_scorer = make_scorer(metrics.flat_f1_score, \n",
    "                        average='weighted', labels=labels)\n",
    "\n",
    "# search\n",
    "rs = RandomizedSearchCV(crf, params_space, \n",
    "                        cv=3, \n",
    "                        verbose=1, \n",
    "                        n_jobs=-1, \n",
    "                        n_iter=20, \n",
    "                        scoring=f1_scorer)\n",
    "rs.fit(X_train, y_train)"
   ]
  },
  {
   "cell_type": "markdown",
   "metadata": {},
   "source": [
    "Best result:"
   ]
  },
  {
   "cell_type": "code",
   "execution_count": 9,
   "metadata": {},
   "outputs": [
    {
     "name": "stdout",
     "output_type": "stream",
     "text": [
      "best params: {'c1': 0.29852068362164663, 'c2': 0.056854050339045628}\n",
      "best CV score: 0.6694857204352365\n",
      "model size: 5.15M\n"
     ]
    }
   ],
   "source": [
    "# crf = rs.best_estimator_\n",
    "print('best params:', rs.best_params_)\n",
    "print('best CV score:', rs.best_score_)\n",
    "print('model size: {:0.2f}M'.format(rs.best_estimator_.size_ / 1000000))"
   ]
  },
  {
   "cell_type": "markdown",
   "metadata": {},
   "source": [
    "### Check parameter space\n",
    "\n",
    "A chart which shows which ``c1`` and ``c2`` values have RandomizedSearchCV checked. Red color means better results, blue means worse."
   ]
  },
  {
   "cell_type": "code",
   "execution_count": 10,
   "metadata": {},
   "outputs": [
    {
     "name": "stdout",
     "output_type": "stream",
     "text": [
      "Dark blue => 0.6581, dark red => 0.6695\n"
     ]
    },
    {
     "data": {
      "image/png": "[encoded data removed]",
      "text/plain": [
       "<matplotlib.figure.Figure at 0x1676be588>"
      ]
     },
     "metadata": {},
     "output_type": "display_data"
    }
   ],
   "source": [
    "_x = [s.parameters['c1'] for s in rs.grid_scores_]\n",
    "_y = [s.parameters['c2'] for s in rs.grid_scores_]\n",
    "_c = [s.mean_validation_score for s in rs.grid_scores_]\n",
    "\n",
    "fig = plt.figure()\n",
    "fig.set_size_inches(12, 12)\n",
    "ax = plt.gca()\n",
    "ax.set_yscale('log')\n",
    "ax.set_xscale('log')\n",
    "ax.set_xlabel('C1')\n",
    "ax.set_ylabel('C2')\n",
    "ax.set_title(\"Randomized Hyperparameter Search CV Results (min={:0.3}, max={:0.3})\".format(\n",
    "    min(_c), max(_c)\n",
    "))\n",
    "\n",
    "ax.scatter(_x, _y, c=_c, s=60, alpha=0.9, edgecolors=[0,0,0])\n",
    "\n",
    "print(\"Dark blue => {:0.4}, dark red => {:0.4}\".format(min(_c), max(_c)))"
   ]
  },
  {
   "cell_type": "markdown",
   "metadata": {},
   "source": [
    "## Check best estimator on our test data\n",
    "\n",
    "As you can see, quality is improved."
   ]
  },
  {
   "cell_type": "code",
   "execution_count": 12,
   "metadata": {},
   "outputs": [
    {
     "name": "stdout",
     "output_type": "stream",
     "text": [
      "             precision    recall  f1-score   support\n",
      "\n",
      "    orgName      0.672     0.483     0.562      8070\n",
      "   persName      0.818     0.819     0.819      6945\n",
      "       date      0.909     0.787     0.844      2135\n",
      "   geogName      0.715     0.418     0.527      1873\n",
      "  placeName      0.800     0.685     0.738      4368\n",
      "       time      0.853     0.254     0.392       389\n",
      "\n",
      "avg / total      0.766     0.637     0.689     23780\n",
      "\n"
     ]
    }
   ],
   "source": [
    "crf = rs.best_estimator_\n",
    "y_pred = crf.predict(X_test)\n",
    "print(metrics.flat_classification_report(\n",
    "    y_test, y_pred, labels=labels, digits=3\n",
    "))"
   ]
  },
  {
   "cell_type": "markdown",
   "metadata": {},
   "source": [
    "## Let's check what classifier learned"
   ]
  },
  {
   "cell_type": "code",
   "execution_count": 13,
   "metadata": {},
   "outputs": [
    {
     "name": "stdout",
     "output_type": "stream",
     "text": [
      "Top likely transitions:\n",
      "I      -> I       2.470137\n",
      "orgName -> orgName 1.892967\n",
      "time   -> time    1.747993\n",
      "date   -> date    1.089337\n",
      "geogName -> geogName 0.994069\n",
      "I      -> orgName 0.970243\n",
      "placeName -> placeName 0.926725\n",
      "persName -> persName 0.896981\n",
      "orgName -> I       0.808718\n",
      "I      -> placeName 0.775374\n",
      "I      -> persName 0.512051\n",
      "I      -> time    0.296102\n",
      "I      -> geogName 0.241140\n",
      "placeName -> I       0.202964\n",
      "persName -> I       0.180517\n",
      "I      -> date    0.052852\n",
      "geogName -> I       0.034679\n",
      "date   -> I       -0.197095\n",
      "time   -> I       -0.222474\n",
      "orgName -> time    -0.229339\n",
      "\n",
      "Top unlikely transitions:\n",
      "geogName -> date    -1.200197\n",
      "time   -> placeName -1.225423\n",
      "time   -> date    -1.231922\n",
      "orgName -> persName -1.236858\n",
      "date   -> placeName -1.270045\n",
      "time   -> geogName -1.438669\n",
      "time   -> orgName -1.450333\n",
      "geogName -> placeName -1.475310\n",
      "geogName -> time    -1.487044\n",
      "placeName -> persName -1.531154\n",
      "persName -> placeName -1.542137\n",
      "date   -> time    -1.612142\n",
      "date   -> persName -1.619311\n",
      "persName -> orgName -1.628895\n",
      "time   -> persName -1.640390\n",
      "placeName -> time    -1.653820\n",
      "date   -> geogName -1.701486\n",
      "placeName -> geogName -1.830523\n",
      "geogName -> persName -2.006671\n",
      "persName -> geogName -2.108109\n"
     ]
    }
   ],
   "source": [
    "from collections import Counter\n",
    "\n",
    "def print_transitions(trans_features):\n",
    "    for (label_from, label_to), weight in trans_features:\n",
    "        print(\"%-6s -> %-7s %0.6f\" % (label_from, label_to, weight))\n",
    "\n",
    "print(\"Top likely transitions:\")\n",
    "print_transitions(Counter(crf.transition_features_).most_common(20))\n",
    "\n",
    "print(\"\\nTop unlikely transitions:\")\n",
    "print_transitions(Counter(crf.transition_features_).most_common()[-20:])"
   ]
  },
  {
   "cell_type": "markdown",
   "metadata": {},
   "source": [
    "We can see that, for example, it is very likely that the beginning of an organization name (B-ORG) will be followed by a token inside organization name (I-ORG), but transitions to I-ORG from tokens with other labels are penalized.\n",
    "\n",
    "Check the state features:"
   ]
  },
  {
   "cell_type": "code",
   "execution_count": 14,
   "metadata": {},
   "outputs": [
    {
     "name": "stdout",
     "output_type": "stream",
     "text": [
      "Top positive:\n",
      "11.899493 I        word.lower():wszyscy\n",
      "9.122277 date     word.lower():lutego\n",
      "8.909055 date     word.lower():stycznia\n",
      "8.896559 date     word.lower():kwietnia\n",
      "8.726292 date     word.lower():sierpnia\n",
      "8.650108 I        word.lower():oklaski\n",
      "8.567726 date     word.lower():września\n",
      "8.368863 date     word.lower():listopadzie\n",
      "8.354929 date     word.lower():kwietniu\n",
      "8.253207 date     word.lower():grudniu\n",
      "8.152704 persName word.lower():boże\n",
      "8.012640 date     word.lower():czerwca\n",
      "7.976721 date     word.lower():styczniu\n",
      "7.948044 placeName word.lower():rosyjskiego\n",
      "7.655188 date     word.lower():lipca\n",
      "7.583156 date     word.lower():listopada\n",
      "7.542869 I        word.lower():czego\n",
      "7.541966 placeName word.lower():niemieckiego\n",
      "7.537600 placeName word.lower():polskiego\n",
      "7.504737 date     word.lower():październiku\n",
      "7.396052 date     word.lower():marca\n",
      "7.293177 placeName word.lower():francuskiego\n",
      "7.140867 persName word.lower():\"babci\"\n",
      "7.081414 date     word.lower():lutym\n",
      "7.061899 I        word.lower():wszystkich\n",
      "6.973272 placeName word.lower():amerykańskiego\n",
      "6.893751 placeName word.lower():polski\n",
      "6.875266 I        word.lower():jakie\n",
      "6.858731 date     word.lower():maju\n",
      "6.843875 persName word.lower():jerzy\n",
      "\n",
      "Top negative:\n",
      "-3.258825 I        -1:word.lower():określona\n",
      "-3.266319 I        word.lower():parlamentarne\n",
      "-3.280346 I        word[-3:]:iej\n",
      "-3.344796 I        word[-3:]:ich\n",
      "-3.402219 I        word.lower():kościele\n",
      "-3.417844 I        word[-3:]:kie\n",
      "-3.419751 I        word.lower():boże\n",
      "-3.443088 I        word.lower():tysiąclecia\n",
      "-3.464466 I        -1:word.lower():regionu\n",
      "-3.501627 I        word[-3:]:-em\n",
      "-3.717916 I        word.lower():grudnia\n",
      "-3.752425 I        word[-3:]:cki\n",
      "-3.784038 I        word.lower():maja\n",
      "-3.796182 I        word[-2:]:iK\n",
      "-3.826419 I        word.lower():sejmowym\n",
      "-3.884408 I        word[-3:]:cką\n",
      "-3.900471 I        word[-3:]:ski\n",
      "-3.936949 I        word[-3:]:ską\n",
      "-3.991610 I        word.lower():października\n",
      "-4.022740 I        word.lower():europejskiej\n",
      "-4.044124 I        word.lower():unijnych\n",
      "-4.087041 I        word.lower():senatorów\n",
      "-4.121255 I        -1:word.lower():sanktuarium\n",
      "-4.156273 date     word.istitle()\n",
      "-4.192092 I        word[-2:]:-u\n",
      "-4.453189 I        word.istitle()\n",
      "-5.040291 I        word.lower():sejmowych\n",
      "-5.399845 I        word[-2:]:'s\n",
      "-5.471404 I        word[-3:]:ccy\n",
      "-5.677644 I        word[-3:]:scy\n"
     ]
    }
   ],
   "source": [
    "def print_state_features(state_features):\n",
    "    for (attr, label), weight in state_features:\n",
    "        print(\"%0.6f %-8s %s\" % (weight, label, attr))    \n",
    "\n",
    "print(\"Top positive:\")\n",
    "print_state_features(Counter(crf.state_features_).most_common(30))\n",
    "\n",
    "print(\"\\nTop negative:\")\n",
    "print_state_features(Counter(crf.state_features_).most_common()[-30:])"
   ]
  },
  {
   "cell_type": "markdown",
   "metadata": {},
   "source": [
    "\n"
   ]
  },
  {
   "cell_type": "code",
   "execution_count": null,
   "metadata": {},
   "outputs": [],
   "source": []
  }
 ],
 "metadata": {
  "kernelspec": {
   "display_name": "Python 3",
   "language": "python",
   "name": "python3"
  },
  "language_info": {
   "codemirror_mode": {
    "name": "ipython",
    "version": 3
   },
   "file_extension": ".py",
   "mimetype": "text/x-python",
   "name": "python",
   "nbconvert_exporter": "python",
   "pygments_lexer": "ipython3",
   "version": "3.6.1"
  }
 },
 "nbformat": 4,
 "nbformat_minor": 1
}
